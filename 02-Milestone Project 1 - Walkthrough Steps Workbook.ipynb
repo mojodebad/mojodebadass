{
 "cells": [
  {
   "cell_type": "markdown",
   "metadata": {},
   "source": [
    "# Milestone Project 1: Walkthrough Steps Workbook\n",
    "\n",
    "Below is a set of steps for you to follow to try to create the Tic Tac Toe Milestone Project game!"
   ]
  },
  {
   "cell_type": "markdown",
   "metadata": {},
   "source": [
    "#### Some suggested tools before you get started:\n",
    "To take input from a user:\n",
    "\n",
    "    player1 = input(\"Please pick a marker 'X' or 'O'\")\n",
    "    \n",
    "Note that input() takes in a string. If you need an integer value, use\n",
    "\n",
    "    position = int(input('Please enter a number'))\n",
    "    \n",
    "<br>To clear the screen between moves:\n",
    "\n",
    "    from IPython.display import clear_output\n",
    "    clear_output()\n",
    "    \n",
    "Note that clear_output() will only work in jupyter. To clear the screen in other IDEs, consider:\n",
    "\n",
    "    print('\\n'*100)\n",
    "    \n",
    "This scrolls the previous board up out of view. Now on to the program!"
   ]
  },
  {
   "cell_type": "markdown",
   "metadata": {},
   "source": [
    "**Step 1: Write a function that can print out a board. Set up your board as a list, where each index 1-9 corresponds with a number on a number pad, so you get a 3 by 3 board representation.**"
   ]
  },
  {
   "cell_type": "code",
   "execution_count": 23,
   "metadata": {
    "collapsed": true
   },
   "outputs": [],
   "source": [
    "tbo=['X','O','X','O','X','O','X','O','X']"
   ]
  },
  {
   "cell_type": "code",
   "execution_count": 24,
   "metadata": {},
   "outputs": [
    {
     "data": {
      "text/plain": [
       "'O'"
      ]
     },
     "execution_count": 24,
     "metadata": {},
     "output_type": "execute_result"
    }
   ],
   "source": [
    "tbo[1]"
   ]
  },
  {
   "cell_type": "code",
   "execution_count": 49,
   "metadata": {},
   "outputs": [
    {
     "ename": "NameError",
     "evalue": "name 'tbo' is not defined",
     "output_type": "error",
     "traceback": [
      "\u001b[1;31m---------------------------------------------------------------------------\u001b[0m",
      "\u001b[1;31mNameError\u001b[0m                                 Traceback (most recent call last)",
      "\u001b[1;32m<ipython-input-49-7ae1b2ee44c0>\u001b[0m in \u001b[0;36m<module>\u001b[1;34m()\u001b[0m\n\u001b[1;32m----> 1\u001b[1;33m \u001b[1;32mprint\u001b[0m\u001b[1;33m(\u001b[0m\u001b[1;34m\" {}|{} | {} \\n__|__|__\\n  |  |  \\n__|__|__\\n   |  |   \\n  |  |  \\n\"\u001b[0m\u001b[1;33m.\u001b[0m\u001b[0mformat\u001b[0m\u001b[1;33m(\u001b[0m\u001b[0mtbo\u001b[0m\u001b[1;33m[\u001b[0m\u001b[1;36m0\u001b[0m\u001b[1;33m]\u001b[0m\u001b[1;33m,\u001b[0m\u001b[0mtbo\u001b[0m\u001b[1;33m[\u001b[0m\u001b[1;36m1\u001b[0m\u001b[1;33m]\u001b[0m\u001b[1;33m,\u001b[0m\u001b[0mtbo\u001b[0m\u001b[1;33m[\u001b[0m\u001b[1;36m2\u001b[0m\u001b[1;33m]\u001b[0m\u001b[1;33m,\u001b[0m\u001b[1;33m)\u001b[0m\u001b[1;33m)\u001b[0m\u001b[1;33m\u001b[0m\u001b[0m\n\u001b[0m",
      "\u001b[1;31mNameError\u001b[0m: name 'tbo' is not defined"
     ]
    }
   ],
   "source": [
    "print(\" {}|{} | {} \\n__|__|__\\n  |  |  \\n__|__|__\\n   |  |   \\n  |  |  \\n\".format(tbo[0],tbo[1],tbo[2],))"
   ]
  },
  {
   "cell_type": "code",
   "execution_count": 50,
   "metadata": {
    "collapsed": true
   },
   "outputs": [],
   "source": [
    "from IPython.display import clear_output\n",
    "\n",
    "def display_board(board):\n",
    "    print(\"{} | {} | {} \\n__|___|__ \\n{} | {} | {} \\n__|___|__\\n{} | {} | {}\\n  |   |  \\n\".format(board[0],board[1],board[2],board[3],board[4],board[5],board[6],board[7],board[8]))"
   ]
  },
  {
   "cell_type": "markdown",
   "metadata": {},
   "source": [
    "**TEST Step 1:** run your function on a test version of the board list, and make adjustments as necessary"
   ]
  },
  {
   "cell_type": "code",
   "execution_count": 51,
   "metadata": {},
   "outputs": [
    {
     "name": "stdout",
     "output_type": "stream",
     "text": [
      "# | X | O \n",
      "__|___|__ \n",
      "X | O | X \n",
      "__|___|__\n",
      "O | X | O\n",
      "  |   |  \n",
      "\n"
     ]
    }
   ],
   "source": [
    "test_board = ['#','X','O','X','O','X','O','X','O','X']\n",
    "display_board(test_board)"
   ]
  },
  {
   "cell_type": "markdown",
   "metadata": {},
   "source": [
    "**Step 2: Write a function that can take in a player input and assign their marker as 'X' or 'O'. Think about using *while* loops to continually ask until you get a correct answer.**"
   ]
  },
  {
   "cell_type": "code",
   "execution_count": 7,
   "metadata": {},
   "outputs": [],
   "source": [
    "def player_input():\n",
    "    player='' \n",
    "    f=True\n",
    "    while(f):\n",
    "        print(\"choose between X or O to start the tic tac toe  Game :\\n\")\n",
    "        player=raw_input('please give valid input:\\n')\n",
    "        if(player=='X' or player=='O'):\n",
    "            break\n",
    "    return player\n",
    "\n"
   ]
  },
  {
   "cell_type": "markdown",
   "metadata": {},
   "source": [
    "**TEST Step 2:** run the function to make sure it returns the desired output"
   ]
  },
  {
   "cell_type": "code",
   "execution_count": 4,
   "metadata": {},
   "outputs": [
    {
     "name": "stdout",
     "output_type": "stream",
     "text": [
      "choose between X or O to start the tic tac toe  Game :\n",
      "\n",
      "please give valid input:\n",
      "i\n",
      "choose between X or O to start the tic tac toe  Game :\n",
      "\n",
      "please give valid input:\n",
      "X\n",
      "X\n"
     ]
    }
   ],
   "source": [
    "z=player_input()\n",
    "print(z)"
   ]
  },
  {
   "cell_type": "markdown",
   "metadata": {},
   "source": [
    "**Step 3: Write a function that takes in the board list object, a marker ('X' or 'O'), and a desired position (number 1-9) and assigns it to the board.**"
   ]
  },
  {
   "cell_type": "code",
   "execution_count": 46,
   "metadata": {
    "collapsed": true
   },
   "outputs": [],
   "source": [
    "def place_marker(board, marker, position):\n",
    "    if(position not in range(0,10)):\n",
    "        print(\"wrong input position \")\n",
    "        return;\n",
    "    #elif(board[position]=='X' or board[position]=='O'):\n",
    "     #   print(\"already occupied position give another one\")\n",
    "      #  return;\n",
    "    else:\n",
    "        board[position]=marker\n",
    "          \n",
    "    pass"
   ]
  },
  {
   "cell_type": "markdown",
   "metadata": {},
   "source": [
    "**TEST Step 3:** run the place marker function using test parameters and display the modified board"
   ]
  },
  {
   "cell_type": "code",
   "execution_count": 47,
   "metadata": {},
   "outputs": [
    {
     "name": "stdout",
     "output_type": "stream",
     "text": [
      "# | X | O \n",
      "__|___|__ \n",
      "X | O | X \n",
      "__|___|__\n",
      "O | X | $\n",
      "  |   |  \n",
      "\n"
     ]
    }
   ],
   "source": [
    "place_marker(test_board,'$',8)\n",
    "display_board(test_board)"
   ]
  },
  {
   "cell_type": "markdown",
   "metadata": {},
   "source": [
    "**Step 4: Write a function that takes in a board and a mark (X or O) and then checks to see if that mark has won. **"
   ]
  },
  {
   "cell_type": "code",
   "execution_count": 10,
   "metadata": {
    "collapsed": true
   },
   "outputs": [],
   "source": [
    "def win_check(board, mark):\n",
    "    if(board[0]==board[1] and board[1]==board[2] and board[0]==mark):\n",
    "        return True;\n",
    "    elif(board[0]==board[3] and board[3]==board[7] and board[0]==mark):\n",
    "        return True\n",
    "    elif(board[0]==board[4] and board[4]==board[8] and board[0]==mark):\n",
    "        return True\n",
    "    elif(board[3]==board[4] and board[4]==board[5] and board[3]==mark):\n",
    "        return True\n",
    "    elif(board[6]==board[7] and board[7]==board[8] and board[6]==mark):\n",
    "        return True\n",
    "    elif(board[1]==board[4] and board[4]==board[7] and board[1]==mark):\n",
    "        return True\n",
    "    elif(board[2]==board[5] and board[5]==board[8] and board[2]==mark):\n",
    "        return True\n",
    "    elif(board[2]==board[4] and board[4]==board[6] and board[2]==mark):\n",
    "        return True\n",
    "    else:\n",
    "        return False"
   ]
  },
  {
   "cell_type": "markdown",
   "metadata": {},
   "source": [
    "**TEST Step 4:** run the win_check function against our test_board - it should return True"
   ]
  },
  {
   "cell_type": "code",
   "execution_count": 11,
   "metadata": {},
   "outputs": [
    {
     "data": {
      "text/plain": [
       "False"
      ]
     },
     "execution_count": 11,
     "metadata": {},
     "output_type": "execute_result"
    }
   ],
   "source": [
    "win_check(test_board,'X')"
   ]
  },
  {
   "cell_type": "markdown",
   "metadata": {},
   "source": [
    "**Step 5: Write a function that uses the random module to randomly decide which player goes first. You may want to lookup random.randint() Return a string of which player went first.**"
   ]
  },
  {
   "cell_type": "markdown",
   "metadata": {},
   "source": [
    "nothing just check"
   ]
  },
  {
   "cell_type": "code",
   "execution_count": 15,
   "metadata": {
    "collapsed": true
   },
   "outputs": [],
   "source": [
    "import random\n",
    "\n",
    "def choose_first():\n",
    "    i=random.randint(1,100)\n",
    "    if(i%2==0):\n",
    "        return('player1')\n",
    "    \n",
    "    else:\n",
    "        return('player2')\n",
    "    \n"
   ]
  },
  {
   "cell_type": "code",
   "execution_count": 19,
   "metadata": {},
   "outputs": [
    {
     "name": "stdout",
     "output_type": "stream",
     "text": [
      "player2\n"
     ]
    }
   ],
   "source": [
    "j=choose_first()\n",
    "print(j)"
   ]
  },
  {
   "cell_type": "markdown",
   "metadata": {},
   "source": [
    "**Step 6: Write a function that returns a boolean indicating whether a space on the board is freely available.**"
   ]
  },
  {
   "cell_type": "code",
   "execution_count": 44,
   "metadata": {},
   "outputs": [],
   "source": [
    "def space_check(board, position):\n",
    "    z=list(range(0,9))\n",
    "    if(position  in z):\n",
    "        if (board[position]<>\"X\" or board[position]<>\"O\"):\n",
    "            return(True)\n",
    "        else:\n",
    "            return(False)\n",
    "    else:\n",
    "        return(False)\n",
    "\n",
    "    pass"
   ]
  },
  {
   "cell_type": "markdown",
   "metadata": {},
   "source": [
    "**Step 7: Write a function that checks if the board is full and returns a boolean value. True if full, False otherwise.**"
   ]
  },
  {
   "cell_type": "code",
   "execution_count": 21,
   "metadata": {
    "collapsed": true
   },
   "outputs": [],
   "source": [
    "def full_board_check(board):\n",
    "    flag=1\n",
    "    for i in board:\n",
    "        if (i<>\"X\" or i<>\"O\"):\n",
    "            flag=0\n",
    "    if(flag==0):\n",
    "        return (False)\n",
    "    else:\n",
    "        return(True)\n",
    "    \n",
    "        \n",
    "        \n",
    "            \n",
    "        \n"
   ]
  },
  {
   "cell_type": "code",
   "execution_count": 23,
   "metadata": {},
   "outputs": [
    {
     "name": "stdout",
     "output_type": "stream",
     "text": [
      "False\n"
     ]
    }
   ],
   "source": [
    "board=['X','O','&','X','O','X','O','X','X']\n",
    "z=full_board_check(board)\n",
    "print(z)\n",
    "  "
   ]
  },
  {
   "cell_type": "markdown",
   "metadata": {},
   "source": [
    "**Step 8: Write a function that asks for a player's next position (as a number 1-9) and then uses the function from step 6 to check if it's a free position. If it is, then return the position for later use.**"
   ]
  },
  {
   "cell_type": "code",
   "execution_count": 33,
   "metadata": {},
   "outputs": [],
   "source": [
    "def player_choice(board):\n",
    "    position=int(input(\"\\n Enter a Valid positions\\n\"))\n",
    "    while(space_check(board,position)!=True):\n",
    "        position=raw_input(\"\\n the position is occupied please give another position\")\n",
    "    return(position)\n",
    "    \n",
    "    "
   ]
  },
  {
   "cell_type": "markdown",
   "metadata": {},
   "source": [
    "**Step 9: Write a function that asks the player if they want to play again and returns a boolean True if they do want to play again.**"
   ]
  },
  {
   "cell_type": "code",
   "execution_count": 25,
   "metadata": {
    "collapsed": true
   },
   "outputs": [],
   "source": [
    "def replay():\n",
    "    choice=input(\"enter wheter you want to play again if yes then True else False\")\n",
    "    if(choice==\"True\"):\n",
    "        return True\n",
    "    else:\n",
    "        return False\n",
    "    "
   ]
  },
  {
   "cell_type": "markdown",
   "metadata": {
    "collapsed": true
   },
   "source": [
    "**Step 10: Here comes the hard part! Use while loops and the functions you've made to run the game!**"
   ]
  },
  {
   "cell_type": "code",
   "execution_count": 48,
   "metadata": {},
   "outputs": [
    {
     "name": "stdout",
     "output_type": "stream",
     "text": [
      "Welcome to Tic Tac Toe!\n",
      "choose between X or O to start the tic tac toe  Game :\n",
      "\n",
      "please give valid input:\n",
      "O\n",
      "\n",
      " now let us choose the first one to play\n",
      "\n",
      "player2  has first turn \n",
      "\n",
      "\n",
      " Enter a Valid positions\n",
      "1\n",
      " | X |  \n",
      "__|___|__ \n",
      " |  |  \n",
      "__|___|__\n",
      " |  | \n",
      "  |   |  \n",
      "\n",
      "\n",
      "\n",
      "\n",
      "\n",
      " Enter a Valid positions\n",
      "8\n",
      "\n",
      "\n",
      "\n",
      " | X |  \n",
      "__|___|__ \n",
      " |  |  \n",
      "__|___|__\n",
      " |  | O\n",
      "  |   |  \n",
      "\n",
      "\n",
      " Enter a Valid positions\n",
      "4\n",
      " | X |  \n",
      "__|___|__ \n",
      " | X |  \n",
      "__|___|__\n",
      " |  | O\n",
      "  |   |  \n",
      "\n",
      "\n",
      "\n",
      "\n",
      "\n",
      " Enter a Valid positions\n",
      "5\n",
      "\n",
      "\n",
      "\n",
      " | X |  \n",
      "__|___|__ \n",
      " | X | O \n",
      "__|___|__\n",
      " |  | O\n",
      "  |   |  \n",
      "\n",
      "\n",
      " Enter a Valid positions\n",
      "7\n",
      " | X |  \n",
      "__|___|__ \n",
      " | X | O \n",
      "__|___|__\n",
      " | X | O\n",
      "  |   |  \n",
      "\n",
      "\n",
      "\n",
      "\n",
      " X won\n",
      "enter wheter you want to play again if yes then True else Falsefalse\n"
     ]
    },
    {
     "ename": "NameError",
     "evalue": "name 'false' is not defined",
     "output_type": "error",
     "traceback": [
      "\u001b[1;31m---------------------------------------------------------------------------\u001b[0m",
      "\u001b[1;31mNameError\u001b[0m                                 Traceback (most recent call last)",
      "\u001b[1;32m<ipython-input-48-c070dc3a806b>\u001b[0m in \u001b[0;36m<module>\u001b[1;34m()\u001b[0m\n\u001b[0;32m     69\u001b[0m                        \u001b[0mplay\u001b[0m\u001b[1;33m=\u001b[0m\u001b[0mFalse\u001b[0m\u001b[1;33m\u001b[0m\u001b[0m\n\u001b[0;32m     70\u001b[0m                        \u001b[1;32mbreak\u001b[0m\u001b[1;33m;\u001b[0m\u001b[1;33m\u001b[0m\u001b[0m\n\u001b[1;32m---> 71\u001b[1;33m         \u001b[0mtrigger\u001b[0m\u001b[1;33m=\u001b[0m\u001b[0mreplay\u001b[0m\u001b[1;33m(\u001b[0m\u001b[1;33m)\u001b[0m\u001b[1;33m\u001b[0m\u001b[0m\n\u001b[0m\u001b[0;32m     72\u001b[0m \u001b[1;33m\u001b[0m\u001b[0m\n\u001b[0;32m     73\u001b[0m \u001b[1;33m\u001b[0m\u001b[0m\n",
      "\u001b[1;32m<ipython-input-25-54ce170259ba>\u001b[0m in \u001b[0;36mreplay\u001b[1;34m()\u001b[0m\n\u001b[0;32m      1\u001b[0m \u001b[1;32mdef\u001b[0m \u001b[0mreplay\u001b[0m\u001b[1;33m(\u001b[0m\u001b[1;33m)\u001b[0m\u001b[1;33m:\u001b[0m\u001b[1;33m\u001b[0m\u001b[0m\n\u001b[1;32m----> 2\u001b[1;33m     \u001b[0mchoice\u001b[0m\u001b[1;33m=\u001b[0m\u001b[0minput\u001b[0m\u001b[1;33m(\u001b[0m\u001b[1;34m\"enter wheter you want to play again if yes then True else False\"\u001b[0m\u001b[1;33m)\u001b[0m\u001b[1;33m\u001b[0m\u001b[0m\n\u001b[0m\u001b[0;32m      3\u001b[0m     \u001b[1;32mif\u001b[0m\u001b[1;33m(\u001b[0m\u001b[0mchoice\u001b[0m\u001b[1;33m==\u001b[0m\u001b[1;34m\"True\"\u001b[0m\u001b[1;33m)\u001b[0m\u001b[1;33m:\u001b[0m\u001b[1;33m\u001b[0m\u001b[0m\n\u001b[0;32m      4\u001b[0m         \u001b[1;32mreturn\u001b[0m \u001b[0mTrue\u001b[0m\u001b[1;33m\u001b[0m\u001b[0m\n\u001b[0;32m      5\u001b[0m     \u001b[1;32melse\u001b[0m\u001b[1;33m:\u001b[0m\u001b[1;33m\u001b[0m\u001b[0m\n",
      "\u001b[1;32mC:\\Users\\Mohit\\Anaconda2\\lib\\site-packages\\ipykernel\\ipkernel.pyc\u001b[0m in \u001b[0;36m<lambda>\u001b[1;34m(prompt)\u001b[0m\n\u001b[0;32m    162\u001b[0m             \u001b[0mself\u001b[0m\u001b[1;33m.\u001b[0m\u001b[0m_sys_eval_input\u001b[0m \u001b[1;33m=\u001b[0m \u001b[0mbuiltin_mod\u001b[0m\u001b[1;33m.\u001b[0m\u001b[0minput\u001b[0m\u001b[1;33m\u001b[0m\u001b[0m\n\u001b[0;32m    163\u001b[0m             \u001b[0mbuiltin_mod\u001b[0m\u001b[1;33m.\u001b[0m\u001b[0mraw_input\u001b[0m \u001b[1;33m=\u001b[0m \u001b[0mself\u001b[0m\u001b[1;33m.\u001b[0m\u001b[0mraw_input\u001b[0m\u001b[1;33m\u001b[0m\u001b[0m\n\u001b[1;32m--> 164\u001b[1;33m             \u001b[0mbuiltin_mod\u001b[0m\u001b[1;33m.\u001b[0m\u001b[0minput\u001b[0m \u001b[1;33m=\u001b[0m \u001b[1;32mlambda\u001b[0m \u001b[0mprompt\u001b[0m\u001b[1;33m=\u001b[0m\u001b[1;34m''\u001b[0m\u001b[1;33m:\u001b[0m \u001b[0meval\u001b[0m\u001b[1;33m(\u001b[0m\u001b[0mself\u001b[0m\u001b[1;33m.\u001b[0m\u001b[0mraw_input\u001b[0m\u001b[1;33m(\u001b[0m\u001b[0mprompt\u001b[0m\u001b[1;33m)\u001b[0m\u001b[1;33m)\u001b[0m\u001b[1;33m\u001b[0m\u001b[0m\n\u001b[0m\u001b[0;32m    165\u001b[0m         \u001b[0mself\u001b[0m\u001b[1;33m.\u001b[0m\u001b[0m_save_getpass\u001b[0m \u001b[1;33m=\u001b[0m \u001b[0mgetpass\u001b[0m\u001b[1;33m.\u001b[0m\u001b[0mgetpass\u001b[0m\u001b[1;33m\u001b[0m\u001b[0m\n\u001b[0;32m    166\u001b[0m         \u001b[0mgetpass\u001b[0m\u001b[1;33m.\u001b[0m\u001b[0mgetpass\u001b[0m \u001b[1;33m=\u001b[0m \u001b[0mself\u001b[0m\u001b[1;33m.\u001b[0m\u001b[0mgetpass\u001b[0m\u001b[1;33m\u001b[0m\u001b[0m\n",
      "\u001b[1;32mC:\\Users\\Mohit\\Anaconda2\\lib\\site-packages\\ipykernel\\ipkernel.pyc\u001b[0m in \u001b[0;36m<module>\u001b[1;34m()\u001b[0m\n",
      "\u001b[1;31mNameError\u001b[0m: name 'false' is not defined"
     ]
    }
   ],
   "source": [
    "print('Welcome to Tic Tac Toe!')\n",
    "board=['']*9\n",
    "player1=player_input()\n",
    "if(player1=='X'):\n",
    "    player2='O'\n",
    "else:\n",
    "    player2='X'\n",
    "    \n",
    "print('\\n now let us choose the first one to play\\n')\n",
    "if(choose_first()=='player1'):\n",
    "    print(\" player1 has the first turn \\n\")\n",
    "    turn=1\n",
    "else:\n",
    "    print(\"player2  has first turn \\n\")\n",
    "    turn=2\n",
    "trigger=True\n",
    "while(trigger):\n",
    "        play=True\n",
    "        if(turn==1):\n",
    "            while(play):\n",
    "                if(full_board_check(board)):\n",
    "                    play=False\n",
    "                #playa 1\n",
    "                else:\n",
    "                    position=player_choice(board)\n",
    "                    place_marker(board,player1,position)\n",
    "                    print('\\n'*2)\n",
    "                    display_board(board)\n",
    "                    if(win_check(board,player1)):\n",
    "                       print(\" {} won\".format(player1))\n",
    "                       play=False\n",
    "                       break;\n",
    "                if(full_board_check(board)):\n",
    "                         play=False\n",
    "                #playa 2\n",
    "                else:\n",
    "                    position=player_choice(board)\n",
    "                    place_marker(board,player2,position)\n",
    "                    print(\"\\n\"*2)\n",
    "                    display_board(board)\n",
    "                    if(win_check(board,player2)):\n",
    "                       print(\" {} won\".format(player2))\n",
    "                       play=False\n",
    "                       break;\n",
    "        if(turn==2):\n",
    "            while(play):\n",
    "                if(full_board_check(board)):\n",
    "                    play=False\n",
    "                #playa 2\n",
    "                else:\n",
    "                    position=player_choice(board)\n",
    "                    place_marker(board,player2,position)\n",
    "                    display_board(board)\n",
    "                    print(\"\\n\"*2)\n",
    "                    if(win_check(board,player2)):\n",
    "                       print(\" {} won\".format(player2))\n",
    "                       play=False\n",
    "                       break;\n",
    "                if(full_board_check(board)):\n",
    "                         play=False\n",
    "                #playa 1\n",
    "                else:\n",
    "                    position=player_choice(board)\n",
    "                    place_marker(board,player1,position)\n",
    "                    print(\"\\n\"*2)\n",
    "                    display_board(board)\n",
    "                    if(win_check(board,player1)):\n",
    "                       print(\" {} won\".format(player1))\n",
    "                       play=False\n",
    "                       break;\n",
    "        trigger=replay()\n",
    "                       \n",
    "                              \n",
    "\n",
    "                      \n",
    "                              \n",
    "\n",
    "                          \n",
    "               \n",
    "               \n",
    "                \n",
    "        \n",
    "#while True:\n",
    "    # Set the game up here\n",
    "    #pass\n",
    "\n",
    "    #while game_on:\n",
    "        #Player 1 Turn\n",
    "        \n",
    "        \n",
    "        # Player2's turn.\n",
    "            \n",
    "            #pass\n",
    "\n",
    "    #if not replay():\n",
    "        #break"
   ]
  },
  {
   "cell_type": "markdown",
   "metadata": {
    "collapsed": true
   },
   "source": [
    "###### Good Job!"
   ]
  },
  {
   "cell_type": "code",
   "execution_count": 40,
   "metadata": {},
   "outputs": [
    {
     "data": {
      "text/plain": [
       "[0, 1, 2, 3, 4, 5, 6, 7, 8]"
      ]
     },
     "execution_count": 40,
     "metadata": {},
     "output_type": "execute_result"
    }
   ],
   "source": [
    "list(range(0,9))"
   ]
  },
  {
   "cell_type": "code",
   "execution_count": 42,
   "metadata": {},
   "outputs": [
    {
     "ename": "SyntaxError",
     "evalue": "invalid syntax (<ipython-input-42-419c007f070a>, line 1)",
     "output_type": "error",
     "traceback": [
      "\u001b[1;36m  File \u001b[1;32m\"<ipython-input-42-419c007f070a>\"\u001b[1;36m, line \u001b[1;32m1\u001b[0m\n\u001b[1;33m    if(9 in list(range(0,9)))\u001b[0m\n\u001b[1;37m                             ^\u001b[0m\n\u001b[1;31mSyntaxError\u001b[0m\u001b[1;31m:\u001b[0m invalid syntax\n"
     ]
    }
   ],
   "source": [
    "if(9 in listrange(0,9)))"
   ]
  },
  {
   "cell_type": "code",
   "execution_count": null,
   "metadata": {
    "collapsed": true
   },
   "outputs": [],
   "source": []
  }
 ],
 "metadata": {
  "kernelspec": {
   "display_name": "Python 2",
   "language": "python",
   "name": "python2"
  },
  "language_info": {
   "codemirror_mode": {
    "name": "ipython",
    "version": 2
   },
   "file_extension": ".py",
   "mimetype": "text/x-python",
   "name": "python",
   "nbconvert_exporter": "python",
   "pygments_lexer": "ipython2",
   "version": "2.7.13"
  }
 },
 "nbformat": 4,
 "nbformat_minor": 1
}
